{
 "cells": [
  {
   "cell_type": "code",
   "execution_count": 19,
   "id": "b284951a",
   "metadata": {},
   "outputs": [],
   "source": [
    "import requests\n",
    "from bs4 import BeautifulSoup\n",
    "import pandas as pd\n",
    "from google.cloud import storage\n",
    "\n",
    "\n",
    "def scrape_data():\n",
    "     #Using BeutifulSoup scrape the Wiki page with a table of all the S&P 500 companies.\n",
    "    page = requests.get(\"https://en.wikipedia.org/wiki/List_of_S%26P_500_companies#S&P_500_component_stocks\")\n",
    "    soup = BeautifulSoup(page.content, 'html.parser')\n",
    "    table = soup.find_all('table')\n",
    "    #Convert table to pandas dataframe\n",
    "    df = pd.read_html(str(table))[0]\n",
    "    #Make minor adjustments to pandas dataframe\n",
    "    df = df.rename(columns={'SEC filings': 'SEC_Fillings', 'GICS Sector': 'GICS_Sector', 'GICS Sub-Industry' : 'GICS_Sub_Industry', 'Headquarters Location' : 'Headquarters_Location', 'Date first added' : 'Date_First_Added'})\n",
    "    df.at[9,'CIK']= 1551152\n",
    "    df['CIK'] = df['CIK'].astype('int')\n",
    "    df.loc[len(df.index)] = ['SPY', 'S&P 500', 'N/A', 'N/A', 'N/A', 'N/A', '1957-01-01', 0, 1957]\n",
    "    return df\n",
    "\n",
    "#Load dataframe to GCS as .csv\n",
    "def load_data(df):\n",
    "    client = storage.Client()\n",
    "    bucket = client.get_bucket('data_lake_stocks-data-pipeline')\n",
    "    bucket.blob(f'S&P 500 Company Info').upload_from_string(df.to_csv(),'S&P 500 Company Info' )\n",
    "    \n",
    "def main():\n",
    "    #prepare dataframe\n",
    "    df = scrape_data()\n",
    "    #load data to GCS\n",
    "    load_data(df)\n",
    "    \n",
    "if __name__ == \"__main__\":\n",
    "    main()\n",
    "\n"
   ]
  },
  {
   "cell_type": "code",
   "execution_count": null,
   "id": "3998880b",
   "metadata": {},
   "outputs": [],
   "source": []
  }
 ],
 "metadata": {
  "kernelspec": {
   "display_name": "Python 3 (ipykernel)",
   "language": "python",
   "name": "python3"
  },
  "language_info": {
   "codemirror_mode": {
    "name": "ipython",
    "version": 3
   },
   "file_extension": ".py",
   "mimetype": "text/x-python",
   "name": "python",
   "nbconvert_exporter": "python",
   "pygments_lexer": "ipython3",
   "version": "3.9.13"
  }
 },
 "nbformat": 4,
 "nbformat_minor": 5
}
